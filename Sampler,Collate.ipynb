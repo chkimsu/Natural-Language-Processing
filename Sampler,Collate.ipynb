{
 "cells": [
  {
   "cell_type": "markdown",
   "metadata": {},
   "source": [
    "---\n",
    "### Sampler와 collate_fn"
   ]
  },
  {
   "cell_type": "code",
   "execution_count": 2,
   "metadata": {},
   "outputs": [],
   "source": [
    "import torch\n",
    "import numpy as np\n",
    "from torch.utils.data import Dataset, ConcatDataset, Sampler, RandomSampler, BatchSampler\n",
    "import transformers\n",
    "import tokenizers"
   ]
  },
  {
   "cell_type": "code",
   "execution_count": 3,
   "metadata": {},
   "outputs": [],
   "source": [
    "class MapDataset(Dataset):\n",
    "    def __len__(self):\n",
    "        return 10\n",
    "    \n",
    "    def __getitem__(self, idx):\n",
    "        return {\"input\":torch.tensor([idx, 2*idx, 3*idx], \n",
    "                                     dtype=torch.float32),\n",
    "                \"label\": torch.tensor(idx, \n",
    "                                     dtype=torch.float32)}\n",
    "\n",
    "\n",
    "class CSBDataset(Dataset):\n",
    "    def __len__(self):\n",
    "        return 10\n",
    "    \n",
    "    def __getitem__(self, idx):\n",
    "        return torch.tensor([idx, 2*idx, 3*idx], \n",
    "                                     dtype=torch.float32)\n",
    "\n",
    "\n",
    "map_dataset = MapDataset()\n",
    "csb_dataset = CSBDataset()"
   ]
  },
  {
   "cell_type": "code",
   "execution_count": 4,
   "metadata": {},
   "outputs": [
    {
     "name": "stdout",
     "output_type": "stream",
     "text": [
      "torch.Size([3, 3]) tensor([8., 1., 6.])\n",
      "torch.Size([3, 3]) tensor([0., 7., 9.])\n",
      "torch.Size([3, 3]) tensor([4., 2., 3.])\n",
      "torch.Size([1, 3]) tensor([5.])\n"
     ]
    },
    {
     "ename": "ValueError",
     "evalue": "batch_sampler option is mutually exclusive with batch_size, shuffle, sampler, and drop_last",
     "output_type": "error",
     "traceback": [
      "\u001b[1;31m---------------------------------------------------------------------------\u001b[0m",
      "\u001b[1;31mValueError\u001b[0m                                Traceback (most recent call last)",
      "\u001b[1;32m<ipython-input-4-22bf4617fe89>\u001b[0m in \u001b[0;36m<module>\u001b[1;34m\u001b[0m\n\u001b[0;32m     19\u001b[0m \u001b[1;31m### 이렇게 해도 에러 뜬다\u001b[0m\u001b[1;33m\u001b[0m\u001b[1;33m\u001b[0m\u001b[1;33m\u001b[0m\u001b[0m\n\u001b[0;32m     20\u001b[0m \u001b[1;31m### batch_sampler와 batch_size는 같이 쓸 수 없다.\u001b[0m\u001b[1;33m\u001b[0m\u001b[1;33m\u001b[0m\u001b[1;33m\u001b[0m\u001b[0m\n\u001b[1;32m---> 21\u001b[1;33m \u001b[0mdataloader\u001b[0m \u001b[1;33m=\u001b[0m \u001b[0mtorch\u001b[0m\u001b[1;33m.\u001b[0m\u001b[0mutils\u001b[0m\u001b[1;33m.\u001b[0m\u001b[0mdata\u001b[0m\u001b[1;33m.\u001b[0m\u001b[0mDataLoader\u001b[0m\u001b[1;33m(\u001b[0m\u001b[0mmap_dataset\u001b[0m\u001b[1;33m,\u001b[0m\u001b[0mbatch_sampler\u001b[0m\u001b[1;33m=\u001b[0m\u001b[0mbatch_sampler\u001b[0m\u001b[1;33m,\u001b[0m \u001b[0mbatch_size\u001b[0m\u001b[1;33m=\u001b[0m\u001b[1;36m3\u001b[0m\u001b[1;33m)\u001b[0m\u001b[1;33m\u001b[0m\u001b[1;33m\u001b[0m\u001b[0m\n\u001b[0m",
      "\u001b[1;32m~\\anaconda3\\lib\\site-packages\\torch\\utils\\data\\dataloader.py\u001b[0m in \u001b[0;36m__init__\u001b[1;34m(self, dataset, batch_size, shuffle, sampler, batch_sampler, num_workers, collate_fn, pin_memory, drop_last, timeout, worker_init_fn, multiprocessing_context, generator, prefetch_factor, persistent_workers)\u001b[0m\n\u001b[0;32m    249\u001b[0m             \u001b[1;31m# auto_collation with custom batch_sampler\u001b[0m\u001b[1;33m\u001b[0m\u001b[1;33m\u001b[0m\u001b[1;33m\u001b[0m\u001b[0m\n\u001b[0;32m    250\u001b[0m             \u001b[1;32mif\u001b[0m \u001b[0mbatch_size\u001b[0m \u001b[1;33m!=\u001b[0m \u001b[1;36m1\u001b[0m \u001b[1;32mor\u001b[0m \u001b[0mshuffle\u001b[0m \u001b[1;32mor\u001b[0m \u001b[0msampler\u001b[0m \u001b[1;32mis\u001b[0m \u001b[1;32mnot\u001b[0m \u001b[1;32mNone\u001b[0m \u001b[1;32mor\u001b[0m \u001b[0mdrop_last\u001b[0m\u001b[1;33m:\u001b[0m\u001b[1;33m\u001b[0m\u001b[1;33m\u001b[0m\u001b[0m\n\u001b[1;32m--> 251\u001b[1;33m                 raise ValueError('batch_sampler option is mutually exclusive '\n\u001b[0m\u001b[0;32m    252\u001b[0m                                  \u001b[1;34m'with batch_size, shuffle, sampler, and '\u001b[0m\u001b[1;33m\u001b[0m\u001b[1;33m\u001b[0m\u001b[0m\n\u001b[0;32m    253\u001b[0m                                  'drop_last')\n",
      "\u001b[1;31mValueError\u001b[0m: batch_sampler option is mutually exclusive with batch_size, shuffle, sampler, and drop_last"
     ]
    }
   ],
   "source": [
    "point_sampler = RandomSampler(map_dataset)\n",
    "batch_sampler = BatchSampler(point_sampler, 3, False)\n",
    "dataloader = torch.utils.data.DataLoader(map_dataset,\n",
    "                                         batch_sampler=batch_sampler)\n",
    "for data in dataloader:\n",
    "    print(data['input'].shape, data['label'])\n",
    "\n",
    "\n",
    "point_sampler = RandomSampler(map_dataset)\n",
    "batch_sampler = BatchSampler(point_sampler, 4, True)\n",
    "### 이렇게 하면 에러 뜬다. \n",
    "### batch_sampler는 batch_sampler 인자에 넣어주어야한다. sampler 인자에 넣어주면 에러뜬다 무조건.  \n",
    "\n",
    "dataloader = torch.utils.data.DataLoader(map_dataset,sampler=batch_sampler)\n",
    "\n",
    "\n",
    "point_sampler = RandomSampler(map_dataset)\n",
    "batch_sampler = BatchSampler(point_sampler, 4, False)\n",
    "### 이렇게 해도 에러 뜬다\n",
    "### batch_sampler와 batch_size는 같이 쓸 수 없다. \n",
    "dataloader = torch.utils.data.DataLoader(map_dataset,batch_sampler=batch_sampler, batch_size=3)\n"
   ]
  },
  {
   "cell_type": "code",
   "execution_count": 5,
   "metadata": {},
   "outputs": [
    {
     "name": "stdout",
     "output_type": "stream",
     "text": [
      "{'input': tensor([[0., 0., 0.],\n",
      "        [1., 2., 3.],\n",
      "        [2., 4., 6.]]), 'label': tensor([0., 1., 2.])} tensor([[0., 0., 0.],\n",
      "        [1., 2., 3.],\n",
      "        [2., 4., 6.]])\n",
      "{'input': tensor([[ 3.,  6.,  9.],\n",
      "        [ 4.,  8., 12.],\n",
      "        [ 5., 10., 15.]]), 'label': tensor([3., 4., 5.])} tensor([[ 3.,  6.,  9.],\n",
      "        [ 4.,  8., 12.],\n",
      "        [ 5., 10., 15.]])\n",
      "{'input': tensor([[ 6., 12., 18.],\n",
      "        [ 7., 14., 21.],\n",
      "        [ 8., 16., 24.]]), 'label': tensor([6., 7., 8.])} tensor([[ 6., 12., 18.],\n",
      "        [ 7., 14., 21.],\n",
      "        [ 8., 16., 24.]])\n",
      "{'input': tensor([[ 9., 18., 27.]]), 'label': tensor([9.])} tensor([[ 9., 18., 27.]])\n"
     ]
    }
   ],
   "source": [
    "dataloader = torch.utils.data.DataLoader(map_dataset,\n",
    "                                         batch_size=3)\n",
    "\n",
    "csb_dataloader = torch.utils.data.DataLoader(csb_dataset, batch_size = 3) \n",
    "\n",
    "for data, data2 in zip(dataloader, csb_dataloader):\n",
    "    print(data, data2)\n",
    "\n",
    "### 찾아보니 dataset이 dict을 return할 경우 내 예상은 batch로 묶일때 dictionary 여러개가 나올줄 알았지만, 그게 아니고 \n",
    "### default collate fn이 있어서 dict안의 값이 여러개로 묶인다. default_collate_fn이 dictionary안에 넣어준다고 한다. "
   ]
  },
  {
   "cell_type": "markdown",
   "metadata": {},
   "source": [
    "### 이거 확인한번!!!"
   ]
  },
  {
   "cell_type": "code",
   "execution_count": 6,
   "metadata": {},
   "outputs": [
    {
     "data": {
      "text/plain": [
       "{'input': tensor([0., 0., 0.]), 'label': tensor(0.)}"
      ]
     },
     "execution_count": 6,
     "metadata": {},
     "output_type": "execute_result"
    }
   ],
   "source": [
    "map_dataset[0]"
   ]
  },
  {
   "cell_type": "code",
   "execution_count": 7,
   "metadata": {},
   "outputs": [],
   "source": [
    "point_sampler = RandomSampler(map_dataset)\n",
    "batch_sampler = BatchSampler(point_sampler, 3, False)\n",
    "\n",
    "\n",
    "### 보니까 collate_fn의 경우에는 리스트 이용해서 for 문 하는게 제일 좋은듯하다. \n",
    "def custom_fn(batch):\n",
    "    x = [data['input'] +100 for data in batch]\n",
    "    y = [data['label'] +50 for data in batch]\n",
    "\n",
    "    return x, y\n",
    "\n",
    "\n",
    "dataloader = torch.utils.data.DataLoader(map_dataset,\n",
    "                                         batch_sampler=batch_sampler,\n",
    "                                         collate_fn = custom_fn)\n"
   ]
  },
  {
   "cell_type": "code",
   "execution_count": 8,
   "metadata": {},
   "outputs": [
    {
     "name": "stdout",
     "output_type": "stream",
     "text": [
      "([tensor([104., 108., 112.]), tensor([107., 114., 121.]), tensor([101., 102., 103.])], [tensor(54.), tensor(57.), tensor(51.)])\n",
      "([tensor([100., 100., 100.]), tensor([102., 104., 106.]), tensor([109., 118., 127.])], [tensor(50.), tensor(52.), tensor(59.)])\n",
      "([tensor([108., 116., 124.]), tensor([105., 110., 115.]), tensor([103., 106., 109.])], [tensor(58.), tensor(55.), tensor(53.)])\n",
      "([tensor([106., 112., 118.])], [tensor(56.)])\n"
     ]
    }
   ],
   "source": [
    "for data in dataloader:\n",
    "    print(data)"
   ]
  }
 ],
 "metadata": {
  "interpreter": {
   "hash": "f7e89925b1aa50b605f20d7e318acc682aa3f2d8d9d7bfa0a81657dbff3df5c2"
  },
  "kernelspec": {
   "display_name": "Python 3.7.6",
   "language": "python",
   "name": "python3"
  },
  "language_info": {
   "codemirror_mode": {
    "name": "ipython",
    "version": 3
   },
   "file_extension": ".py",
   "mimetype": "text/x-python",
   "name": "python",
   "nbconvert_exporter": "python",
   "pygments_lexer": "ipython3",
   "version": "3.7.6"
  },
  "orig_nbformat": 4
 },
 "nbformat": 4,
 "nbformat_minor": 2
}
